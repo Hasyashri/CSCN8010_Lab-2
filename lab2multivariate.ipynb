{
 "cells": [
  {
   "cell_type": "markdown",
   "id": "5ab979b0",
   "metadata": {},
   "source": [
    "> # **Practical Lab 2 -Multivariate Linear Regression, Non-Parametric Models and Cross-Validation**\n",
    "\n",
    "**CSCN8010 Foundations of Machine Learning Frameworks**\n",
    "\n",
    "**Student Name: Hasyashri Bhatt**\n",
    "\n",
    "**Student Number : 9028501**\n",
    "\n",
    "**Practical Lab 2 : Multivariate Linear Regression, Non-Parametric Models and Cross-Validation**"
   ]
  },
  {
   "cell_type": "markdown",
   "id": "d4c3507d",
   "metadata": {},
   "source": [
    "---\n",
    "### **Introduction**\n",
    "\n",
    "---"
   ]
  },
  {
   "cell_type": "markdown",
   "id": "17c24085",
   "metadata": {},
   "source": [
    "> #### **What is Diabetes Progression?**\n",
    "\n",
    "\n",
    "Diabetes mellitus is a chronic metabolic disorder that affects how the body processes blood glucose (sugar). Over time, poorly managed diabetes can lead to severe complications such as cardiovascular disease, nerve damage, kidney failure, and vision loss.\n",
    "\n",
    "**Diabetes progression** refers to the worsening of the disease over time, especially in terms of organ function and glucose control. Accurately predicting this progression can allow healthcare providers to intervene earlier and personalize treatment plans for high-risk patients.\n",
    "\n",
    "In this lab, we focus on **quantifying disease progression one year after baseline** using clinical and physiological variables collected from patients.\n",
    "\n",
    "> #### **Why is it Important to Predict?**\n",
    "\n",
    "Predicting diabetes progression is essential for:\n",
    "\n",
    "- **Early detection** of patients who are at higher risk.\n",
    "- **Efficient allocation** of medical resources and personalized care.\n",
    "- **Improving patient outcomes** by enabling timely interventions.\n",
    "- **Assisting physicians** with data-driven screening tools in clinical decision-making.\n",
    "\n",
    "By training machine learning models on relevant medical features, we aim to develop a predictive system that can serve as a support tool in healthcare settings.\n",
    "\n",
    ">#### Dataset Source\n",
    "\n",
    "We use the **Diabetes Dataset** from Scikit-learn's built-in collection. It is a well-known dataset in the machine learning community, often used for regression tasks.\n",
    "\n",
    "- **Source**: Scikit-learn’s `load_diabetes()` method https://scikit-learn.org/stable/modules/generated/sklearn.datasets.load_diabetes.html#\n",
    "- **Features**: 10 continuous numerical attributes (e.g., age, sex, BMI, blood pressure)\n",
    "- **Target**: Disease progression measured as a continuous score one year after the baseline\n",
    "- **Preprocessing**: All features are standardized to have zero mean and unit variance"
   ]
  },
  {
   "cell_type": "markdown",
   "id": "ee7a5ffb",
   "metadata": {},
   "source": [
    "---\n",
    "\n",
    "### **Objective**\n",
    "\n",
    "---"
   ]
  },
  {
   "cell_type": "markdown",
   "id": "23cfc58d",
   "metadata": {},
   "source": [
    "The objective of this project is to build and evaluate machine learning models that can **predict the progression of diabetes one year after baseline measurements**. \n",
    "\n",
    "We will compare four modeling techniques:\n",
    "\n",
    "1. Univariate Polynomial Regression\n",
    "2. Multivariate Polynomial Regression\n",
    "3. Decision Trees\n",
    "4. k-Nearest Neighbors (kNN)\n",
    "\n",
    "Each model will be evaluated using three metrics:\n",
    "- **R-squared (R²)**\n",
    "- **Mean Absolute Error (MAE)**\n",
    "- **Mean Absolute Percentage Error (MAPE)**\n",
    "\n",
    "We will use a train-validation-test pipeline to ensure fair evaluation of the models.\n",
    "\n",
    "---"
   ]
  },
  {
   "cell_type": "markdown",
   "id": "bf9024bd",
   "metadata": {},
   "source": [
    "># **PART - 1**"
   ]
  },
  {
   "cell_type": "markdown",
   "id": "b9b9b965",
   "metadata": {},
   "source": [
    ">**1. Get The Data**\n",
    "\n",
    "We need to import necessary libraries to load the the diabetes dataset from the sklearn and further process as below."
   ]
  },
  {
   "cell_type": "code",
   "execution_count": 2,
   "id": "20e9a6b9",
   "metadata": {},
   "outputs": [],
   "source": [
    "# Import necessary libraries\n",
    "import pandas as pd \n",
    "from sklearn.datasets import load_diabetes"
   ]
  },
  {
   "cell_type": "markdown",
   "id": "05052918",
   "metadata": {},
   "source": [
    "**Loading the diabetes dataset from the sklearn using  `load()` method here we used as_frame=true to load dataset as a pandas dataframe and not as a Numpy array then we seperate feature and target using x and y then we combined x and y to make it one dataset so we can perform all operations easily. Also we renamed targeted variable name from y to disease_progression.**"
   ]
  },
  {
   "cell_type": "code",
   "execution_count": 14,
   "id": "d0202e67",
   "metadata": {},
   "outputs": [],
   "source": [
    "# Load the diabetes dataset as a pandas DataFrame and not as a numpy array\n",
    "diabetes = load_diabetes(as_frame=True)\n",
    "\n",
    "# Separate features and target\n",
    "X = diabetes.data\n",
    "y = diabetes.target\n",
    "\n",
    "# Combine for x and y as a one dataset for easy manipulation and y renaming to 'disease_progression'\n",
    "df = pd.concat([X, y.rename(\"disease_progression\")], axis=1)"
   ]
  },
  {
   "cell_type": "markdown",
   "id": "68298003",
   "metadata": {},
   "source": [
    "**Inspect the dataset to know more about it**"
   ]
  },
  {
   "cell_type": "code",
   "execution_count": 15,
   "id": "fc10dcf3",
   "metadata": {},
   "outputs": [
    {
     "data": {
      "application/vnd.microsoft.datawrangler.viewer.v0+json": {
       "columns": [
        {
         "name": "index",
         "rawType": "int64",
         "type": "integer"
        },
        {
         "name": "age",
         "rawType": "float64",
         "type": "float"
        },
        {
         "name": "sex",
         "rawType": "float64",
         "type": "float"
        },
        {
         "name": "bmi",
         "rawType": "float64",
         "type": "float"
        },
        {
         "name": "bp",
         "rawType": "float64",
         "type": "float"
        },
        {
         "name": "s1",
         "rawType": "float64",
         "type": "float"
        },
        {
         "name": "s2",
         "rawType": "float64",
         "type": "float"
        },
        {
         "name": "s3",
         "rawType": "float64",
         "type": "float"
        },
        {
         "name": "s4",
         "rawType": "float64",
         "type": "float"
        },
        {
         "name": "s5",
         "rawType": "float64",
         "type": "float"
        },
        {
         "name": "s6",
         "rawType": "float64",
         "type": "float"
        },
        {
         "name": "disease_progression",
         "rawType": "float64",
         "type": "float"
        }
       ],
       "ref": "fe44624a-f98e-47ac-9422-6a886c7ab74f",
       "rows": [
        [
         "0",
         "0.038075906433423026",
         "0.05068011873981862",
         "0.061696206518683294",
         "0.0218723855140367",
         "-0.04422349842444599",
         "-0.03482076283769895",
         "-0.04340084565202491",
         "-0.002592261998183278",
         "0.019907486170462722",
         "-0.01764612515980379",
         "151.0"
        ],
        [
         "1",
         "-0.0018820165277906047",
         "-0.044641636506989144",
         "-0.051474061238800654",
         "-0.02632752814785296",
         "-0.008448724111216851",
         "-0.019163339748222204",
         "0.07441156407875721",
         "-0.03949338287409329",
         "-0.0683315470939731",
         "-0.092204049626824",
         "75.0"
        ],
        [
         "2",
         "0.08529890629667548",
         "0.05068011873981862",
         "0.04445121333659049",
         "-0.00567042229275739",
         "-0.04559945128264711",
         "-0.03419446591411989",
         "-0.03235593223976409",
         "-0.002592261998183278",
         "0.002861309289833047",
         "-0.025930338989472702",
         "141.0"
        ],
        [
         "3",
         "-0.0890629393522567",
         "-0.044641636506989144",
         "-0.011595014505211082",
         "-0.03665608107540074",
         "0.01219056876179996",
         "0.02499059336410222",
         "-0.036037570043851025",
         "0.03430885887772673",
         "0.022687744966501246",
         "-0.009361911330134878",
         "206.0"
        ],
        [
         "4",
         "0.005383060374248237",
         "-0.044641636506989144",
         "-0.03638469220446948",
         "0.0218723855140367",
         "0.003934851612593237",
         "0.015596139510416171",
         "0.008142083605192267",
         "-0.002592261998183278",
         "-0.03198763948805312",
         "-0.04664087356364498",
         "135.0"
        ]
       ],
       "shape": {
        "columns": 11,
        "rows": 5
       }
      },
      "text/html": [
       "<div>\n",
       "<style scoped>\n",
       "    .dataframe tbody tr th:only-of-type {\n",
       "        vertical-align: middle;\n",
       "    }\n",
       "\n",
       "    .dataframe tbody tr th {\n",
       "        vertical-align: top;\n",
       "    }\n",
       "\n",
       "    .dataframe thead th {\n",
       "        text-align: right;\n",
       "    }\n",
       "</style>\n",
       "<table border=\"1\" class=\"dataframe\">\n",
       "  <thead>\n",
       "    <tr style=\"text-align: right;\">\n",
       "      <th></th>\n",
       "      <th>age</th>\n",
       "      <th>sex</th>\n",
       "      <th>bmi</th>\n",
       "      <th>bp</th>\n",
       "      <th>s1</th>\n",
       "      <th>s2</th>\n",
       "      <th>s3</th>\n",
       "      <th>s4</th>\n",
       "      <th>s5</th>\n",
       "      <th>s6</th>\n",
       "      <th>disease_progression</th>\n",
       "    </tr>\n",
       "  </thead>\n",
       "  <tbody>\n",
       "    <tr>\n",
       "      <th>0</th>\n",
       "      <td>0.038076</td>\n",
       "      <td>0.050680</td>\n",
       "      <td>0.061696</td>\n",
       "      <td>0.021872</td>\n",
       "      <td>-0.044223</td>\n",
       "      <td>-0.034821</td>\n",
       "      <td>-0.043401</td>\n",
       "      <td>-0.002592</td>\n",
       "      <td>0.019907</td>\n",
       "      <td>-0.017646</td>\n",
       "      <td>151.0</td>\n",
       "    </tr>\n",
       "    <tr>\n",
       "      <th>1</th>\n",
       "      <td>-0.001882</td>\n",
       "      <td>-0.044642</td>\n",
       "      <td>-0.051474</td>\n",
       "      <td>-0.026328</td>\n",
       "      <td>-0.008449</td>\n",
       "      <td>-0.019163</td>\n",
       "      <td>0.074412</td>\n",
       "      <td>-0.039493</td>\n",
       "      <td>-0.068332</td>\n",
       "      <td>-0.092204</td>\n",
       "      <td>75.0</td>\n",
       "    </tr>\n",
       "    <tr>\n",
       "      <th>2</th>\n",
       "      <td>0.085299</td>\n",
       "      <td>0.050680</td>\n",
       "      <td>0.044451</td>\n",
       "      <td>-0.005670</td>\n",
       "      <td>-0.045599</td>\n",
       "      <td>-0.034194</td>\n",
       "      <td>-0.032356</td>\n",
       "      <td>-0.002592</td>\n",
       "      <td>0.002861</td>\n",
       "      <td>-0.025930</td>\n",
       "      <td>141.0</td>\n",
       "    </tr>\n",
       "    <tr>\n",
       "      <th>3</th>\n",
       "      <td>-0.089063</td>\n",
       "      <td>-0.044642</td>\n",
       "      <td>-0.011595</td>\n",
       "      <td>-0.036656</td>\n",
       "      <td>0.012191</td>\n",
       "      <td>0.024991</td>\n",
       "      <td>-0.036038</td>\n",
       "      <td>0.034309</td>\n",
       "      <td>0.022688</td>\n",
       "      <td>-0.009362</td>\n",
       "      <td>206.0</td>\n",
       "    </tr>\n",
       "    <tr>\n",
       "      <th>4</th>\n",
       "      <td>0.005383</td>\n",
       "      <td>-0.044642</td>\n",
       "      <td>-0.036385</td>\n",
       "      <td>0.021872</td>\n",
       "      <td>0.003935</td>\n",
       "      <td>0.015596</td>\n",
       "      <td>0.008142</td>\n",
       "      <td>-0.002592</td>\n",
       "      <td>-0.031988</td>\n",
       "      <td>-0.046641</td>\n",
       "      <td>135.0</td>\n",
       "    </tr>\n",
       "  </tbody>\n",
       "</table>\n",
       "</div>"
      ],
      "text/plain": [
       "        age       sex       bmi        bp        s1        s2        s3  \\\n",
       "0  0.038076  0.050680  0.061696  0.021872 -0.044223 -0.034821 -0.043401   \n",
       "1 -0.001882 -0.044642 -0.051474 -0.026328 -0.008449 -0.019163  0.074412   \n",
       "2  0.085299  0.050680  0.044451 -0.005670 -0.045599 -0.034194 -0.032356   \n",
       "3 -0.089063 -0.044642 -0.011595 -0.036656  0.012191  0.024991 -0.036038   \n",
       "4  0.005383 -0.044642 -0.036385  0.021872  0.003935  0.015596  0.008142   \n",
       "\n",
       "         s4        s5        s6  disease_progression  \n",
       "0 -0.002592  0.019907 -0.017646                151.0  \n",
       "1 -0.039493 -0.068332 -0.092204                 75.0  \n",
       "2 -0.002592  0.002861 -0.025930                141.0  \n",
       "3  0.034309  0.022688 -0.009362                206.0  \n",
       "4 -0.002592 -0.031988 -0.046641                135.0  "
      ]
     },
     "execution_count": 15,
     "metadata": {},
     "output_type": "execute_result"
    }
   ],
   "source": [
    "# Show first few rows of the DataFrame\n",
    "\n",
    "df.head()"
   ]
  },
  {
   "cell_type": "markdown",
   "id": "b7a438f1",
   "metadata": {},
   "source": [
    ">**2. Problem Statement**\n",
    "\n",
    "We are tasked with developing predictive models for diabetes progression, defined as a quantitative measurement of disease severity **one year after the baseline**. The dataset provides 10 numeric clinical features for each patient, such as body mass index (BMI), blood pressure, and blood serum measurements.\n",
    "\n",
    "The goal is to accurately estimate the **future disease progression score** for each individual, based on their baseline characteristics.\n",
    "\n",
    "This is a **supervised regression** task:\n",
    "\n",
    "- **Input Features (X)**: 10 continuous, normalized medical indicators\n",
    "- **Output Variable (y)**: `disease_progression` (continuous target)\n",
    "\n",
    "The target value is a **medical score** that reflects the change in the patient's diabetic condition after one year.\n",
    "\n",
    "The solution must be:\n",
    "\n",
    "- **Interpretable** (for medical relevance)\n",
    "- **Accurate** (to assist in early detection and care)\n",
    "- **Generalizable** (to unseen patients)"
   ]
  },
  {
   "cell_type": "markdown",
   "id": "7e4fc721",
   "metadata": {},
   "source": [
    "Ultimately, we aim to develop a model that can serve as a **screening tool** to help physicians identify patients at higher risk of disease deterioration."
   ]
  },
  {
   "cell_type": "markdown",
   "id": "44593226",
   "metadata": {},
   "source": []
  }
 ],
 "metadata": {
  "kernelspec": {
   "display_name": "venv",
   "language": "python",
   "name": "python3"
  },
  "language_info": {
   "codemirror_mode": {
    "name": "ipython",
    "version": 3
   },
   "file_extension": ".py",
   "mimetype": "text/x-python",
   "name": "python",
   "nbconvert_exporter": "python",
   "pygments_lexer": "ipython3",
   "version": "3.12.7"
  }
 },
 "nbformat": 4,
 "nbformat_minor": 5
}
