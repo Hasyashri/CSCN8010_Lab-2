{
 "cells": [
  {
   "cell_type": "markdown",
   "id": "5ab979b0",
   "metadata": {},
   "source": [
    "> # **Assignment 1**\n",
    "\n",
    "**CSCN8010 Foundations of Machine Learning Frameworks**\n",
    "\n",
    "**Student Name: Hasyashri Bhatt**\n",
    "\n",
    "**Student Number : 9028501**\n",
    "\n",
    "**Practical Lab 2 : Multivariate Linear Regression, Non-Parametric Models and Cross-Validation**"
   ]
  },
  {
   "cell_type": "markdown",
   "id": "d4c3507d",
   "metadata": {},
   "source": []
  }
 ],
 "metadata": {
  "language_info": {
   "name": "python"
  }
 },
 "nbformat": 4,
 "nbformat_minor": 5
}
