{
 "cells": [
  {
   "cell_type": "markdown",
   "id": "5ab979b0",
   "metadata": {},
   "source": [
    "> # **Assignment 1**\n",
    "\n",
    "**CSCN8010 Foundations of Machine Learning Frameworks**\n",
    "\n",
    "**Student Name: Hasyashri Bhatt**\n",
    "\n",
    "**Student Number : 9028501**\n",
    "\n",
    "**Practical Lab 2 : Multivariate Linear Regression, Non-Parametric Models and Cross-Validation**"
   ]
  },
  {
   "cell_type": "markdown",
   "id": "d4c3507d",
   "metadata": {},
   "source": [
    "---\n",
    "**Introduction**\n",
    "\n",
    "---"
   ]
  },
  {
   "cell_type": "markdown",
   "id": "17c24085",
   "metadata": {},
   "source": [
    "In this assignment, we’re working with a diabetes dataset that contains health measurements of 442 patients.The data includes 10 baseline health factors and a target that shows disease progression after a year.This is a well-known dataset frequently used to explore regression and non-parametric methods.\n",
    "\n",
    "Using this, we aim to better understand the relationship between health factors and diabetes progression.\n",
    "\n"
   ]
  },
  {
   "cell_type": "markdown",
   "id": "ee7a5ffb",
   "metadata": {},
   "source": [
    "---\n",
    "\n",
    "**Objective**\n",
    "\n",
    "---"
   ]
  },
  {
   "cell_type": "markdown",
   "id": "23cfc58d",
   "metadata": {},
   "source": [
    "The main objective of this assignment is to:\n",
    "\n",
    "- Analyze and explore the diabetes dataset, understanding its structure and relationships.\n",
    "- Train regression and non-parametric models — polynomial regression, decision trees, kNN — to predict diabetes progression based on baseline health factors.\n",
    "- Evaluate and compare models using appropriate metrics (R-squared, Mean Absolute Error, and Mean Absolute Percentage Error).\n",
    "- Identify which model performs best in making accurate predictions.\n",
    "- Draw conclusions about the performance, limitations, and potential applications of these models in a healthcare context.\n",
    "\n",
    "Ultimately, this will help us appreciate how regression and non-parametric methods can aid doctors in identifying high-risk diabetes patients and tailoring their care plans.\n",
    "\n",
    "---"
   ]
  },
  {
   "cell_type": "markdown",
   "id": "b9b9b965",
   "metadata": {},
   "source": [
    "**1. First we need to import necessary libraries and packages for the further process.**"
   ]
  },
  {
   "cell_type": "code",
   "execution_count": null,
   "id": "20e9a6b9",
   "metadata": {},
   "outputs": [],
   "source": [
    "import pandas as pd \n",
    "import numpy as np\n"
   ]
  }
 ],
 "metadata": {
  "language_info": {
   "name": "python"
  }
 },
 "nbformat": 4,
 "nbformat_minor": 5
}
